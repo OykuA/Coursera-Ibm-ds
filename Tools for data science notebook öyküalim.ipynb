{
 "cells": [
  {
   "cell_type": "markdown",
   "id": "da1f36f4",
   "metadata": {},
   "source": [
    "\n",
    "Hello this is an intro cell for mark down -Öykü Alim\n"
   ]
  },
  {
   "cell_type": "markdown",
   "id": "4635fa50",
   "metadata": {},
   "source": [
    "Data science languages:\n",
    "1)R\n",
    "2)Julia\n",
    "3)Pyhton\n",
    "4)Swift"
   ]
  },
  {
   "cell_type": "markdown",
   "id": "52399a9d",
   "metadata": {},
   "source": [
    "Data science libraries: 1- Tensorflow 2- Numpy 3-Scipy 4-Pandas 5-Keras"
   ]
  },
  {
   "cell_type": "markdown",
   "id": "ca40b205",
   "metadata": {},
   "source": [
    "|  | Data Science Tools | |\n",
    "| --- | --- | --- |\n",
    "| SAS| Excel | Apache Spark|"
   ]
  },
  {
   "cell_type": "markdown",
   "id": "099d3b6f",
   "metadata": {},
   "source": [
    "<h3>Below are a few examples of evaluating arithmetic expressions in Python<3>"
   ]
  },
  {
   "cell_type": "code",
   "execution_count": 3,
   "id": "ec952a29",
   "metadata": {},
   "outputs": [
    {
     "data": {
      "text/plain": [
       "4"
      ]
     },
     "execution_count": 3,
     "metadata": {},
     "output_type": "execute_result"
    }
   ],
   "source": [
    "2+2\n"
   ]
  },
  {
   "cell_type": "code",
   "execution_count": 4,
   "id": "2046e00c",
   "metadata": {},
   "outputs": [
    {
     "data": {
      "text/plain": [
       "17"
      ]
     },
     "execution_count": 4,
     "metadata": {},
     "output_type": "execute_result"
    }
   ],
   "source": [
    "(3*4)+5"
   ]
  },
  {
   "cell_type": "code",
   "execution_count": 6,
   "id": "9713d303",
   "metadata": {},
   "outputs": [
    {
     "name": "stdout",
     "output_type": "stream",
     "text": [
      "The number of hours is: 3.3333333333333335\n"
     ]
    }
   ],
   "source": [
    "minutes = 200  # Replace 120 with the number of minutes you want to convert\n",
    "hours = minutes / 60\n",
    "print(\"The number of hours is:\", hours)\n"
   ]
  },
  {
   "cell_type": "markdown",
   "id": "493938d8",
   "metadata": {},
   "source": [
    "<h3>Objectives: \n",
    "    <ul>\n",
    "  <li>List popular languages for Data Science</li>\n",
    "  <li>Below are a few examples of evaluating arithmetic expressions in Python</li>\n",
    "  <li>Data science languages</li>\n",
    "  <li>Data science libraries</li>\n",
    "</ul>"
   ]
  },
  {
   "cell_type": "markdown",
   "id": "f7408b24",
   "metadata": {},
   "source": [
    "<h2>Author"
   ]
  },
  {
   "cell_type": "markdown",
   "id": "caed3945",
   "metadata": {},
   "source": [
    "Öykü Alim"
   ]
  },
  {
   "cell_type": "code",
   "execution_count": null,
   "id": "c3681462",
   "metadata": {},
   "outputs": [],
   "source": []
  }
 ],
 "metadata": {
  "kernelspec": {
   "display_name": "Python 3 (ipykernel)",
   "language": "python",
   "name": "python3"
  },
  "language_info": {
   "codemirror_mode": {
    "name": "ipython",
    "version": 3
   },
   "file_extension": ".py",
   "mimetype": "text/x-python",
   "name": "python",
   "nbconvert_exporter": "python",
   "pygments_lexer": "ipython3",
   "version": "3.9.12"
  }
 },
 "nbformat": 4,
 "nbformat_minor": 5
}
